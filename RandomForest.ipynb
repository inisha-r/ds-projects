import pandas as pd
import numpy as np
from sklearn.model_selection import train_test_split
from sklearn.ensemble import RandomForestClassifier
from sklearn.metrics import accuracy_score, classification_report
from sklearn.preprocessing import StandardScaler

from google.colab import files

# Function to upload historical OHLCV data from a CSV file in Google Colab
def read_candlestick_data(file_path):
    df = pd.read_csv(file_path)

    # Convert the 'datetime' column to datetime
    df['datetime'] = pd.to_datetime(df['datetime'])

    return df

# Function to create features for the trading model
def create_features(df):
    df['ma5'] = df['close'].rolling(window=5).mean()
    df['ma20'] = df['close'].rolling(window=20).mean()
    df['rsi'] = calculate_rsi(df['close'], 14)
    df.dropna(inplace=True)
    return df

# Function to calculate Relative Strength Index (RSI)
def calculate_rsi(data, period=14):
    diff = data.diff(1)
    gain = diff.where(diff > 0, 0)
    loss = -diff.where(diff < 0, 0)

    avg_gain = gain.rolling(window=period, min_periods=1).mean()
    avg_loss = loss.rolling(window=period, min_periods=1).mean()

    rs = avg_gain / avg_loss
    rsi = 100 - (100 / (1 + rs))
    return rsi

# Function to label data based on trading signals (e.g., Buy: 1, Sell: -1, Hold: 0)
def create_labels(df):
    df['signal'] = 0
    df.loc[df['close'] > df['ma20'], 'signal'] = 1  # Buy signal
    df.loc[df['close'] < df['ma20'], 'signal'] = -1  # Sell signal
    return df

# Function to train the trading model
def train_model(features, labels):
    X_train, X_test, y_train, y_test = train_test_split(features, labels, test_size=0.2, random_state=42)

    scaler = StandardScaler()
    X_train_scaled = scaler.fit_transform(X_train)
    X_test_scaled = scaler.transform(X_test)

    model = RandomForestClassifier(n_estimators=100, random_state=42)
    model.fit(X_train_scaled, y_train)

    predictions = model.predict(X_test_scaled)
    accuracy = accuracy_score(y_test, predictions)

    print("Model Accuracy:", accuracy)
    print("Classification Report:\n", classification_report(y_test, predictions))

# Main function to execute the algorithmic trading model
def main():
    # Upload historical data from CSV in Google Colab
    file_path = list(files.upload().keys())[0]
    df = read_candlestick_data(file_path)

    # Create features
    df = create_features(df)

    # Create labels
    df = create_labels(df)

    # Features and labels
    features = df[['open', 'high', 'low', 'close', 'volume', 'ma5', 'ma20', 'rsi']]
    labels = df['signal']

    # Train the model
    train_model(features, labels)

if __name__ == "__main__":
    main()
